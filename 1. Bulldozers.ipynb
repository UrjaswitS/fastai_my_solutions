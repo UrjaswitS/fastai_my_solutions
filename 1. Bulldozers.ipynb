{
 "cells": [
  {
   "cell_type": "code",
   "execution_count": 1,
   "metadata": {},
   "outputs": [],
   "source": [
    "#########imports\n",
    "\n",
    "from fastai.imports import *\n",
    "from fastai.structured import *\n",
    "\n",
    "from pandas_summary import DataFrameSummary\n",
    "from sklearn.ensemble import RandomForestRegressor\n",
    "from IPython.display import display\n",
    "\n",
    "from sklearn import metrics\n",
    "\n",
    "import sys\n",
    "\n",
    "import feather\n",
    "\n",
    "########"
   ]
  },
  {
   "cell_type": "code",
   "execution_count": 2,
   "metadata": {},
   "outputs": [
    {
     "name": "stdout",
     "output_type": "stream",
     "text": [
      "Train.csv\n"
     ]
    }
   ],
   "source": [
    "############################# path to data files\n",
    "\n",
    "PATH = \"../data/bulldozers/\"\n",
    "!ls {PATH}\n",
    "\n",
    "#####"
   ]
  },
  {
   "cell_type": "code",
   "execution_count": 3,
   "metadata": {},
   "outputs": [],
   "source": [
    "############################ read data\n",
    "\n",
    "df_raw = pd.read_csv(f'{PATH}Train.csv', low_memory = False, parse_dates = [\"saledate\"])\n",
    "\n",
    "######"
   ]
  },
  {
   "cell_type": "code",
   "execution_count": 4,
   "metadata": {},
   "outputs": [],
   "source": [
    "########################### FUNCTIONS ##############################\n",
    "\n",
    "\n",
    "####### display_all function\n",
    "\n",
    "def display_all(df):\n",
    "    with pd.option_context(\"display.max_rows\", 1000,\"display.max_columns\", 1000):\n",
    "        display(df)\n",
    "\n",
    "        \n",
    "        \n",
    "####### split_vals function\n",
    "\n",
    "def split_vals(a, n):\n",
    "    return a[:n].copy(), a[n:].copy()\n",
    "\n",
    "\n",
    "\n",
    "##### rmse function\n",
    "\n",
    "def rmse(x, y):\n",
    "    return math.sqrt(((x-y)**2).mean())\n",
    "\n",
    "\n",
    "\n",
    "##### print_score function\n",
    "\n",
    "def print_score(m):\n",
    "    res = [rmse(m.predict(X_train), y_train), rmse(m.predict(X_valid), y_valid), m.score(X_train, y_train), m.score(X_valid, y_valid)]\n",
    "    if hasattr(m, 'oob_score_'):\n",
    "        res.append(m.oob_score_)\n",
    "    print(res)\n",
    "    \n",
    "\n",
    "##### dectree max depth function\n",
    "\n",
    "def dectree_max_depth(tree):\n",
    "    children_left = tree.children_left\n",
    "    children_right = tree.children_right\n",
    "    \n",
    "    def walk(node_id):\n",
    "        if(children_left[node_id] != children_right[node_id]):\n",
    "            left_max = 1 + walk(children_left[node_id])\n",
    "            right_max = 1 + walk(children_right[node_id])\n",
    "            return max(left_max, right_max)\n",
    "        else:\n",
    "            return 1\n",
    "    root_node_id = 0\n",
    "    return walk(root_node_id)    \n",
    "    \n",
    "#####"
   ]
  },
  {
   "cell_type": "code",
   "execution_count": 2,
   "metadata": {},
   "outputs": [],
   "source": [
    "# display_all(df_raw.tail())"
   ]
  },
  {
   "cell_type": "code",
   "execution_count": 3,
   "metadata": {},
   "outputs": [],
   "source": [
    "# display_all(df_raw.describe(include='all'))"
   ]
  },
  {
   "cell_type": "code",
   "execution_count": 5,
   "metadata": {},
   "outputs": [],
   "source": [
    "######### data pre-processing\n",
    "\n",
    "df_raw.SalePrice = np.log(df_raw.SalePrice)\n",
    "\n",
    "train_cats(df_raw)\n",
    "\n",
    "add_datepart(df_raw, 'saledate')\n",
    "\n",
    "df, y, nas = proc_df(df_raw, 'SalePrice')\n",
    "\n",
    "#########"
   ]
  },
  {
   "cell_type": "code",
   "execution_count": 6,
   "metadata": {},
   "outputs": [
    {
     "data": {
      "text/plain": [
       "((389125, 65), (12000, 65), (389125, 66), (12000, 66), (389125,), (12000,))"
      ]
     },
     "execution_count": 6,
     "metadata": {},
     "output_type": "execute_result"
    }
   ],
   "source": [
    "####### making cross-validtion set\n",
    "\n",
    "n_valid = 12000\n",
    "n_trn = len(df) - n_valid\n",
    "raw_train, raw_valid = split_vals(df_raw, n_trn)\n",
    "\n",
    "X_train, X_valid = split_vals(df, n_trn)\n",
    "y_train, y_valid = split_vals(y, n_trn)\n",
    "\n",
    "\n",
    "# X_train.shape, y_train.shape, X_valid.shape\n",
    "\n",
    "raw_train.shape, raw_valid.shape, X_train.shape, X_valid.shape, y_train.shape, y_valid.shape\n",
    "\n",
    "#######"
   ]
  },
  {
   "cell_type": "code",
   "execution_count": 24,
   "metadata": {},
   "outputs": [
    {
     "name": "stdout",
     "output_type": "stream",
     "text": [
      "Wall time: 24.3 s\n",
      "[0.2276955823348228, 0.26101183230413705, 0.8916462277733792, 0.8783342423873864, 0.8800936692650698]\n"
     ]
    }
   ],
   "source": [
    "########### model 5 : sub-sampling\n",
    "\n",
    "set_rf_samples(20000)\n",
    "\n",
    "m = RandomForestRegressor(n_estimators=40, n_jobs = -1, oob_score=True)\n",
    "%time m.fit(X_train, y_train)\n",
    "print_score(m)\n",
    "\n",
    "###########"
   ]
  },
  {
   "cell_type": "code",
   "execution_count": 26,
   "metadata": {},
   "outputs": [],
   "source": [
    "reset_rf_samples()"
   ]
  },
  {
   "cell_type": "code",
   "execution_count": 19,
   "metadata": {},
   "outputs": [
    {
     "data": {
      "text/plain": [
       "(array([9.04782, 9.9988 , 9.21034, 9.30565, 9.15905, 9.39266, 9.21034, 9.21034, 9.02401, 9.10498]),\n",
       " 9.266399049898974,\n",
       " 9.104979856318357)"
      ]
     },
     "execution_count": 19,
     "metadata": {},
     "output_type": "execute_result"
    }
   ],
   "source": [
    "########### comparing predictions with y values\n",
    "\n",
    "preds = np.stack([t.predict(X_valid) for t in m.estimators_])\n",
    "preds[:,0], np.mean(preds[:,0]), y_valid[0]\n",
    "\n",
    "###########"
   ]
  },
  {
   "cell_type": "code",
   "execution_count": 9,
   "metadata": {},
   "outputs": [
    {
     "name": "stdout",
     "output_type": "stream",
     "text": [
      "[0.119074062780624, 0.2280148228300204, 0.970367440172192, 0.9071516617837563, 0.9119004338566976]\n"
     ]
    }
   ],
   "source": [
    "######## model 5 : tree-building parameters (min_samples_leaf, max_features)\n",
    "\n",
    "m = RandomForestRegressor(max_features=0.5, n_estimators=40, min_samples_leaf=3, n_jobs=-1, oob_score=True)\n",
    "m.fit(X_train, y_train)\n",
    "print_score(m)\n",
    "\n",
    "########"
   ]
  },
  {
   "cell_type": "code",
   "execution_count": 7,
   "metadata": {},
   "outputs": [
    {
     "name": "stdout",
     "output_type": "stream",
     "text": [
      "[0.07846918770708818, 0.23518547981512622, 0.9871313455318379, 0.9012200085161102, 0.9083402293474887]\n"
     ]
    }
   ],
   "source": [
    "############ model 4 : oot_of_bag_score with bagging (more than one tree)\n",
    "\n",
    "m = RandomForestRegressor(n_estimators=40, n_jobs=-1, oob_score=True)\n",
    "m.fit(X_train, y_train)\n",
    "print_score(m)\n",
    "\n",
    "############"
   ]
  },
  {
   "cell_type": "code",
   "execution_count": 9,
   "metadata": {},
   "outputs": [
    {
     "name": "stdout",
     "output_type": "stream",
     "text": [
      "[0.5219385070968967, 0.5813672044382565, 0.4034366443768935, 0.39640027646932957]\n"
     ]
    }
   ],
   "source": [
    "####### single tree\n",
    "\n",
    "m =RandomForestRegressor(n_estimators=1, max_depth=3, bootstrap=False, n_jobs=-1)\n",
    "m.fit(X_train, y_train)\n",
    "print_score(m)\n",
    "\n",
    "#######"
   ]
  },
  {
   "cell_type": "code",
   "execution_count": 15,
   "metadata": {},
   "outputs": [
    {
     "name": "stderr",
     "output_type": "stream",
     "text": [
      "C:\\Miniconda3\\envs\\fastai\\lib\\site-packages\\sklearn\\ensemble\\forest.py:246: FutureWarning: The default value of n_estimators will change from 10 in version 0.20 to 100 in 0.22.\n",
      "  \"10 in version 0.20 to 100 in 0.22.\", FutureWarning)\n"
     ]
    },
    {
     "name": "stdout",
     "output_type": "stream",
     "text": [
      "Wall time: 36.5 s\n",
      "[0.09034990616930431, 0.2474196882233459, 0.9829395596027305, 0.8906757555458812]\n"
     ]
    }
   ],
   "source": [
    "###### model 3\n",
    "\n",
    "m=RandomForestRegressor(n_jobs = -1)\n",
    "%time m.fit(X_train, y_train)\n",
    "print_score(m)\n",
    "\n",
    "######"
   ]
  },
  {
   "cell_type": "code",
   "execution_count": 8,
   "metadata": {},
   "outputs": [
    {
     "name": "stderr",
     "output_type": "stream",
     "text": [
      "C:\\Miniconda3\\envs\\fastai\\lib\\site-packages\\sklearn\\ensemble\\forest.py:246: FutureWarning: The default value of n_estimators will change from 10 in version 0.20 to 100 in 0.22.\n",
      "  \"10 in version 0.20 to 100 in 0.22.\", FutureWarning)\n"
     ]
    },
    {
     "data": {
      "text/plain": [
       "0.9831096295517464"
      ]
     },
     "execution_count": 8,
     "metadata": {},
     "output_type": "execute_result"
    }
   ],
   "source": [
    "####### model 2\n",
    "\n",
    "m = RandomForestRegressor(n_jobs = -1)\n",
    "m.fit(df, y)\n",
    "m.score(df, y)\n",
    "\n",
    "#######"
   ]
  },
  {
   "cell_type": "code",
   "execution_count": 10,
   "metadata": {},
   "outputs": [],
   "source": [
    "####### model 1\n",
    "\n",
    "m = RandomForestRegressor(n_jobs = -1)\n",
    "m.fit(df_raw.drop('SalePrice', axis=1), df_raw.SalePrice)\n",
    "m.score(df_raw, df_raw.drop('SalePrice', axis=1), df_raw.SalePrice)\n",
    "\n",
    "#######"
   ]
  },
  {
   "cell_type": "code",
   "execution_count": 8,
   "metadata": {},
   "outputs": [],
   "source": [
    "####### speed things up (after model 3)\n",
    "\n",
    "df_trn, y_trn, nas = proc_df(df_raw, 'SalePrice', subset=30000, na_dict=nas)\n",
    "X_train, _= split_vals(df_trn, 20000)\n",
    "y_train, _= split_vals(y_trn, 20000)\n",
    "\n",
    "#######"
   ]
  },
  {
   "cell_type": "code",
   "execution_count": 37,
   "metadata": {},
   "outputs": [],
   "source": [
    "#### save temp data\n",
    "\n",
    "os.makedirs('tmp', exist_ok = True)\n",
    "df_raw.to_feather('tmp/bulldozer-raw')\n",
    "\n",
    "####"
   ]
  },
  {
   "cell_type": "code",
   "execution_count": 41,
   "metadata": {},
   "outputs": [],
   "source": [
    "#### read saved temp data\n",
    "\n",
    "df_raw = feather.read_dataframe('tmp/bulldozer-raw')\n",
    "\n",
    "####"
   ]
  },
  {
   "cell_type": "code",
   "execution_count": 11,
   "metadata": {},
   "outputs": [],
   "source": [
    "# draw_tree(m.estimators_[0], df_trn, precision=3)"
   ]
  },
  {
   "cell_type": "code",
   "execution_count": 12,
   "metadata": {},
   "outputs": [],
   "source": [
    "??proc_df"
   ]
  },
  {
   "cell_type": "code",
   "execution_count": 39,
   "metadata": {},
   "outputs": [
    {
     "data": {
      "text/plain": [
       "'0.23.4'"
      ]
     },
     "execution_count": 39,
     "metadata": {},
     "output_type": "execute_result"
    }
   ],
   "source": [
    "pd.__version__"
   ]
  }
 ],
 "metadata": {
  "kernelspec": {
   "display_name": "Python 3",
   "language": "python",
   "name": "python3"
  },
  "language_info": {
   "codemirror_mode": {
    "name": "ipython",
    "version": 3
   },
   "file_extension": ".py",
   "mimetype": "text/x-python",
   "name": "python",
   "nbconvert_exporter": "python",
   "pygments_lexer": "ipython3",
   "version": "3.6.7"
  }
 },
 "nbformat": 4,
 "nbformat_minor": 2
}
